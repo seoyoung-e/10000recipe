{
 "cells": [
  {
   "cell_type": "code",
   "execution_count": 1,
   "metadata": {
    "ExecuteTime": {
     "end_time": "2021-09-07T04:23:30.221807Z",
     "start_time": "2021-09-07T04:23:29.174232Z"
    }
   },
   "outputs": [],
   "source": [
    "import pandas as pd\n",
    "import numpy as np\n",
    "import re\n",
    "from IPython.core.interactiveshell import InteractiveShell\n",
    "import sys\n",
    "InteractiveShell.ast_node_interactivity='all'"
   ]
  },
  {
   "cell_type": "code",
   "execution_count": 2,
   "metadata": {
    "ExecuteTime": {
     "end_time": "2021-09-07T04:23:40.181545Z",
     "start_time": "2021-09-07T04:23:30.901287Z"
    }
   },
   "outputs": [],
   "source": [
    "recipe=pd.read_excel('만개의레시피_레시피명,재료_전처리.xlsx')"
   ]
  },
  {
   "cell_type": "code",
   "execution_count": 3,
   "metadata": {
    "ExecuteTime": {
     "end_time": "2021-09-07T04:23:41.140026Z",
     "start_time": "2021-09-07T04:23:41.107964Z"
    }
   },
   "outputs": [],
   "source": [
    "recipe = recipe.drop(146,axis = 0)\n",
    "recipe = recipe.drop('Unnamed: 0',axis = 1)"
   ]
  },
  {
   "cell_type": "code",
   "execution_count": 4,
   "metadata": {
    "ExecuteTime": {
     "end_time": "2021-09-06T12:12:11.621373Z",
     "start_time": "2021-09-06T12:12:11.528431Z"
    }
   },
   "outputs": [
    {
     "data": {
      "text/plain": [
       "array(['[]', \"['소금', '홍고추']\",\n",
       "       \"['설탕[토핑]메이플시럽', '시나몬가루', '연유', '볶은콩가루', '바닐라아이스크림', '견과류']\", ...,\n",
       "       \"['돼지고기', '배추김치', '김치국물', '두부', '양파', '들기름', '고추가루', '디포리', '무', '물']\",\n",
       "       \"['닭안심', '우유', '빵가루', '밀가루', '계란', '2', '소금', '후추', '맛술', '2']\",\n",
       "       \"['등갈비', '김치', '월계수잎', '설탕']\"], dtype=object)"
      ]
     },
     "execution_count": 4,
     "metadata": {},
     "output_type": "execute_result"
    }
   ],
   "source": [
    "recipe['전처리재료'].unique()"
   ]
  },
  {
   "cell_type": "code",
   "execution_count": 5,
   "metadata": {
    "ExecuteTime": {
     "end_time": "2021-09-06T12:12:12.217903Z",
     "start_time": "2021-09-06T12:12:12.183038Z"
    }
   },
   "outputs": [
    {
     "data": {
      "text/plain": [
       "(array(['20분 이내', '2시간 이상', '15분 이내', '30분 이내', '60분 이내', '120분 이내',\n",
       "        '10분 이내', '90분 이내', '5분 이내'], dtype=object),\n",
       " array(['3인분', '2인분', '1인분', '5인분', '6인분 이상', '4인분'], dtype=object),\n",
       " array(['아무나', '초급', '중급', '신의경지', '고급'], dtype=object))"
      ]
     },
     "execution_count": 5,
     "metadata": {},
     "output_type": "execute_result"
    }
   ],
   "source": [
    "time=[]\n",
    "size=[]\n",
    "level=[]\n",
    "time=recipe['소요시간'].unique()\n",
    "size=recipe['인분'].unique()\n",
    "level=recipe['난이도'].unique()\n",
    "\n",
    "time, size, level"
   ]
  },
  {
   "cell_type": "code",
   "execution_count": 6,
   "metadata": {
    "ExecuteTime": {
     "end_time": "2021-09-06T12:12:13.164881Z",
     "start_time": "2021-09-06T12:12:13.158385Z"
    }
   },
   "outputs": [
    {
     "data": {
      "text/plain": [
       "Index(['레시피명', 'Index', '레시피링크', '소요시간', '인분', '난이도', '재료', '전처리재료'], dtype='object')"
      ]
     },
     "execution_count": 6,
     "metadata": {},
     "output_type": "execute_result"
    }
   ],
   "source": [
    "recipe.columns # 컬럼명 확인"
   ]
  },
  {
   "cell_type": "code",
   "execution_count": 7,
   "metadata": {
    "ExecuteTime": {
     "end_time": "2021-09-07T04:23:44.476380Z",
     "start_time": "2021-09-07T04:23:44.461790Z"
    }
   },
   "outputs": [],
   "source": [
    "recipe_c = recipe.copy() # 복사본 생성"
   ]
  },
  {
   "cell_type": "code",
   "execution_count": null,
   "metadata": {},
   "outputs": [],
   "source": []
  },
  {
   "cell_type": "markdown",
   "metadata": {},
   "source": [
    "## 전처리"
   ]
  },
  {
   "cell_type": "code",
   "execution_count": 8,
   "metadata": {
    "ExecuteTime": {
     "end_time": "2021-09-07T04:26:43.464626Z",
     "start_time": "2021-09-07T04:26:43.454833Z"
    }
   },
   "outputs": [],
   "source": [
    "def preprocess():\n",
    "   \n",
    "    recipe_c['소요시간'] = recipe_c['소요시간'].apply(\\\n",
    "                        lambda x: '121분 이상' if x == '2시간 이상' else x)\n",
    "    \n",
    "    ## 아무나: 1, 초급: 2, 중급: 3, 고급: 4, 신의경지: 5\n",
    "    recipe_c['난이도'] = recipe_c['난이도'].apply(lambda x: 1 if x=='아무나'\n",
    "                                       else 2 if x=='초급'\n",
    "                                       else 3 if x=='중급'\n",
    "                                       else 4 if x=='고급'\n",
    "                                       else 5)\n",
    "    \n",
    "    recipe_c['인분'] = recipe_c['인분'].str.extract('([0-9])')\n",
    "    recipe_c['소요시간'] = recipe_c['소요시간'].str.extract('(\\d+)')"
   ]
  },
  {
   "cell_type": "code",
   "execution_count": 9,
   "metadata": {
    "ExecuteTime": {
     "end_time": "2021-09-07T04:26:46.282338Z",
     "start_time": "2021-09-07T04:26:46.038606Z"
    }
   },
   "outputs": [],
   "source": [
    "preprocess()"
   ]
  },
  {
   "cell_type": "code",
   "execution_count": 10,
   "metadata": {
    "ExecuteTime": {
     "end_time": "2021-09-07T04:26:46.823967Z",
     "start_time": "2021-09-07T04:26:46.793720Z"
    }
   },
   "outputs": [
    {
     "data": {
      "text/html": [
       "<div>\n",
       "<style scoped>\n",
       "    .dataframe tbody tr th:only-of-type {\n",
       "        vertical-align: middle;\n",
       "    }\n",
       "\n",
       "    .dataframe tbody tr th {\n",
       "        vertical-align: top;\n",
       "    }\n",
       "\n",
       "    .dataframe thead th {\n",
       "        text-align: right;\n",
       "    }\n",
       "</style>\n",
       "<table border=\"1\" class=\"dataframe\">\n",
       "  <thead>\n",
       "    <tr style=\"text-align: right;\">\n",
       "      <th></th>\n",
       "      <th>레시피명</th>\n",
       "      <th>Index</th>\n",
       "      <th>레시피링크</th>\n",
       "      <th>소요시간</th>\n",
       "      <th>인분</th>\n",
       "      <th>난이도</th>\n",
       "      <th>재료</th>\n",
       "      <th>전처리재료</th>\n",
       "    </tr>\n",
       "  </thead>\n",
       "  <tbody>\n",
       "    <tr>\n",
       "      <th>0</th>\n",
       "      <td>제육 삼각 김밥</td>\n",
       "      <td>6963999</td>\n",
       "      <td>https://www.10000recipe.com/recipe/6963999</td>\n",
       "      <td>20</td>\n",
       "      <td>3</td>\n",
       "      <td>1</td>\n",
       "      <td>[재료(약7개분량)]볶은제육불고기200g[밥양념]밥5공기,통깨2큰술,참기름2큰술,소...</td>\n",
       "      <td>[]</td>\n",
       "    </tr>\n",
       "    <tr>\n",
       "      <th>1</th>\n",
       "      <td>마약계란장 만들기 반숙계란장 레시피</td>\n",
       "      <td>6963998</td>\n",
       "      <td>https://www.10000recipe.com/recipe/6963998</td>\n",
       "      <td>121</td>\n",
       "      <td>2</td>\n",
       "      <td>2</td>\n",
       "      <td>[재료]계란10개,소금,식초약간,양파1/2개,쪽파반줌,홍고추,청양고추각1개[양념장재...</td>\n",
       "      <td>['소금', '홍고추']</td>\n",
       "    </tr>\n",
       "    <tr>\n",
       "      <th>2</th>\n",
       "      <td>크로와상 생지로 크로플 만들기   겉은 바삭 속은 쫄깃해요</td>\n",
       "      <td>6963996</td>\n",
       "      <td>https://www.10000recipe.com/recipe/6963996</td>\n",
       "      <td>15</td>\n",
       "      <td>2</td>\n",
       "      <td>1</td>\n",
       "      <td>[재료]크로와상냉동생지4개,오일(식용유or버터),설탕[토핑]메이플시럽,시나몬가루,연...</td>\n",
       "      <td>['설탕[토핑]메이플시럽', '시나몬가루', '연유', '볶은콩가루', '바닐라아이...</td>\n",
       "    </tr>\n",
       "    <tr>\n",
       "      <th>3</th>\n",
       "      <td>고기육수를 내서 깊고 푸짐한 두부김치찌개 간단하게 만들기</td>\n",
       "      <td>6963995</td>\n",
       "      <td>https://www.10000recipe.com/recipe/6963995</td>\n",
       "      <td>30</td>\n",
       "      <td>2</td>\n",
       "      <td>2</td>\n",
       "      <td>[재료]묵은지적당량,돼지고기100g,설탕(생략가능)0.3T,다진마늘1T,두부적당량,...</td>\n",
       "      <td>[]</td>\n",
       "    </tr>\n",
       "    <tr>\n",
       "      <th>4</th>\n",
       "      <td>계란샌드위치 만들기 에그샌드위치 레시피</td>\n",
       "      <td>6963994</td>\n",
       "      <td>https://www.10000recipe.com/recipe/6963994</td>\n",
       "      <td>20</td>\n",
       "      <td>2</td>\n",
       "      <td>2</td>\n",
       "      <td>[재료]계란6개,식빵6장,마요네즈3T,플레인요거트1T듬뿍,꿀약간,홀그레인머스타드약간...</td>\n",
       "      <td>[]</td>\n",
       "    </tr>\n",
       "  </tbody>\n",
       "</table>\n",
       "</div>"
      ],
      "text/plain": [
       "                                 레시피명    Index  \\\n",
       "0                            제육 삼각 김밥  6963999   \n",
       "1                 마약계란장 만들기 반숙계란장 레시피  6963998   \n",
       "2  크로와상 생지로 크로플 만들기   겉은 바삭 속은 쫄깃해요    6963996   \n",
       "3     고기육수를 내서 깊고 푸짐한 두부김치찌개 간단하게 만들기  6963995   \n",
       "4               계란샌드위치 만들기 에그샌드위치 레시피  6963994   \n",
       "\n",
       "                                        레시피링크 소요시간 인분  난이도  \\\n",
       "0  https://www.10000recipe.com/recipe/6963999   20  3    1   \n",
       "1  https://www.10000recipe.com/recipe/6963998  121  2    2   \n",
       "2  https://www.10000recipe.com/recipe/6963996   15  2    1   \n",
       "3  https://www.10000recipe.com/recipe/6963995   30  2    2   \n",
       "4  https://www.10000recipe.com/recipe/6963994   20  2    2   \n",
       "\n",
       "                                                  재료  \\\n",
       "0  [재료(약7개분량)]볶은제육불고기200g[밥양념]밥5공기,통깨2큰술,참기름2큰술,소...   \n",
       "1  [재료]계란10개,소금,식초약간,양파1/2개,쪽파반줌,홍고추,청양고추각1개[양념장재...   \n",
       "2  [재료]크로와상냉동생지4개,오일(식용유or버터),설탕[토핑]메이플시럽,시나몬가루,연...   \n",
       "3  [재료]묵은지적당량,돼지고기100g,설탕(생략가능)0.3T,다진마늘1T,두부적당량,...   \n",
       "4  [재료]계란6개,식빵6장,마요네즈3T,플레인요거트1T듬뿍,꿀약간,홀그레인머스타드약간...   \n",
       "\n",
       "                                               전처리재료  \n",
       "0                                                 []  \n",
       "1                                      ['소금', '홍고추']  \n",
       "2  ['설탕[토핑]메이플시럽', '시나몬가루', '연유', '볶은콩가루', '바닐라아이...  \n",
       "3                                                 []  \n",
       "4                                                 []  "
      ]
     },
     "execution_count": 10,
     "metadata": {},
     "output_type": "execute_result"
    }
   ],
   "source": [
    "recipe_c.head()"
   ]
  },
  {
   "cell_type": "code",
   "execution_count": 11,
   "metadata": {},
   "outputs": [
    {
     "data": {
      "text/plain": [
       "(array(['20분 이내', '2시간 이상', '15분 이내', '30분 이내', '60분 이내', '120분 이내',\n",
       "        '10분 이내', '90분 이내', '5분 이내'], dtype=object),\n",
       " array(['3인분', '2인분', '1인분', '5인분', '6인분 이상', '4인분'], dtype=object),\n",
       " array(['아무나', '초급', '중급', '신의경지', '고급'], dtype=object))"
      ]
     },
     "execution_count": 11,
     "metadata": {},
     "output_type": "execute_result"
    },
    {
     "data": {
      "text/html": [
       "<div>\n",
       "<style scoped>\n",
       "    .dataframe tbody tr th:only-of-type {\n",
       "        vertical-align: middle;\n",
       "    }\n",
       "\n",
       "    .dataframe tbody tr th {\n",
       "        vertical-align: top;\n",
       "    }\n",
       "\n",
       "    .dataframe thead th {\n",
       "        text-align: right;\n",
       "    }\n",
       "</style>\n",
       "<table border=\"1\" class=\"dataframe\">\n",
       "  <thead>\n",
       "    <tr style=\"text-align: right;\">\n",
       "      <th></th>\n",
       "      <th>소요시간</th>\n",
       "      <th>인분</th>\n",
       "      <th>난이도</th>\n",
       "    </tr>\n",
       "  </thead>\n",
       "  <tbody>\n",
       "    <tr>\n",
       "      <th>0</th>\n",
       "      <td>20분 이내</td>\n",
       "      <td>3인분</td>\n",
       "      <td>아무나</td>\n",
       "    </tr>\n",
       "    <tr>\n",
       "      <th>1</th>\n",
       "      <td>2시간 이상</td>\n",
       "      <td>2인분</td>\n",
       "      <td>초급</td>\n",
       "    </tr>\n",
       "    <tr>\n",
       "      <th>2</th>\n",
       "      <td>15분 이내</td>\n",
       "      <td>2인분</td>\n",
       "      <td>아무나</td>\n",
       "    </tr>\n",
       "    <tr>\n",
       "      <th>3</th>\n",
       "      <td>30분 이내</td>\n",
       "      <td>2인분</td>\n",
       "      <td>초급</td>\n",
       "    </tr>\n",
       "    <tr>\n",
       "      <th>4</th>\n",
       "      <td>20분 이내</td>\n",
       "      <td>2인분</td>\n",
       "      <td>초급</td>\n",
       "    </tr>\n",
       "    <tr>\n",
       "      <th>...</th>\n",
       "      <td>...</td>\n",
       "      <td>...</td>\n",
       "      <td>...</td>\n",
       "    </tr>\n",
       "    <tr>\n",
       "      <th>77260</th>\n",
       "      <td>30분 이내</td>\n",
       "      <td>5인분</td>\n",
       "      <td>아무나</td>\n",
       "    </tr>\n",
       "    <tr>\n",
       "      <th>77261</th>\n",
       "      <td>10분 이내</td>\n",
       "      <td>1인분</td>\n",
       "      <td>아무나</td>\n",
       "    </tr>\n",
       "    <tr>\n",
       "      <th>77262</th>\n",
       "      <td>60분 이내</td>\n",
       "      <td>6인분 이상</td>\n",
       "      <td>초급</td>\n",
       "    </tr>\n",
       "    <tr>\n",
       "      <th>77263</th>\n",
       "      <td>2시간 이상</td>\n",
       "      <td>2인분</td>\n",
       "      <td>아무나</td>\n",
       "    </tr>\n",
       "    <tr>\n",
       "      <th>77264</th>\n",
       "      <td>30분 이내</td>\n",
       "      <td>2인분</td>\n",
       "      <td>아무나</td>\n",
       "    </tr>\n",
       "  </tbody>\n",
       "</table>\n",
       "<p>77264 rows × 3 columns</p>\n",
       "</div>"
      ],
      "text/plain": [
       "         소요시간      인분  난이도\n",
       "0      20분 이내     3인분  아무나\n",
       "1      2시간 이상     2인분   초급\n",
       "2      15분 이내     2인분  아무나\n",
       "3      30분 이내     2인분   초급\n",
       "4      20분 이내     2인분   초급\n",
       "...       ...     ...  ...\n",
       "77260  30분 이내     5인분  아무나\n",
       "77261  10분 이내     1인분  아무나\n",
       "77262  60분 이내  6인분 이상   초급\n",
       "77263  2시간 이상     2인분  아무나\n",
       "77264  30분 이내     2인분  아무나\n",
       "\n",
       "[77264 rows x 3 columns]"
      ]
     },
     "execution_count": 11,
     "metadata": {},
     "output_type": "execute_result"
    }
   ],
   "source": [
    "time=recipe['소요시간'].unique()\n",
    "size=recipe['인분'].unique()\n",
    "level=recipe['난이도'].unique()\n",
    "\n",
    "time, size, level\n",
    "\n",
    "recipe[['소요시간','인분','난이도']]"
   ]
  },
  {
   "cell_type": "code",
   "execution_count": 12,
   "metadata": {
    "ExecuteTime": {
     "end_time": "2021-09-07T04:26:50.919516Z",
     "start_time": "2021-09-07T04:26:50.897747Z"
    }
   },
   "outputs": [],
   "source": [
    "# recipe_c : 단순 복사본\n",
    "# recipe_c2 : 입력된 재료를 가진 행만 저장된 df\n",
    "# recipe_c3 : 입력된 재료 및 특정 난도를 가진 행만 저장된 df\n",
    "# recipe_c4 : 입력된 재료, 특정 난도 및 특정 수준 이하의 소요시간을 가진 행만 저장된 df\n",
    "# recipe_c5 : 입력된 재료, 특정 난도 및 특정 수준 이하의 소요시간 및 특정 인분을 가진 행만 저장된 df\n",
    "\n",
    "recipe_view=recipe_c.drop('전처리재료',axis = 1) # recipe_view: 전처리재료 열 제외한 df"
   ]
  },
  {
   "cell_type": "code",
   "execution_count": 13,
   "metadata": {},
   "outputs": [
    {
     "data": {
      "text/plain": [
       "(array(['20분 이내', '2시간 이상', '15분 이내', '30분 이내', '60분 이내', '120분 이내',\n",
       "        '10분 이내', '90분 이내', '5분 이내'], dtype=object),\n",
       " array(['3인분', '2인분', '1인분', '5인분', '6인분 이상', '4인분'], dtype=object),\n",
       " array(['아무나', '초급', '중급', '신의경지', '고급'], dtype=object))"
      ]
     },
     "execution_count": 13,
     "metadata": {},
     "output_type": "execute_result"
    },
    {
     "data": {
      "text/html": [
       "<div>\n",
       "<style scoped>\n",
       "    .dataframe tbody tr th:only-of-type {\n",
       "        vertical-align: middle;\n",
       "    }\n",
       "\n",
       "    .dataframe tbody tr th {\n",
       "        vertical-align: top;\n",
       "    }\n",
       "\n",
       "    .dataframe thead th {\n",
       "        text-align: right;\n",
       "    }\n",
       "</style>\n",
       "<table border=\"1\" class=\"dataframe\">\n",
       "  <thead>\n",
       "    <tr style=\"text-align: right;\">\n",
       "      <th></th>\n",
       "      <th>소요시간</th>\n",
       "      <th>인분</th>\n",
       "      <th>난이도</th>\n",
       "    </tr>\n",
       "  </thead>\n",
       "  <tbody>\n",
       "    <tr>\n",
       "      <th>0</th>\n",
       "      <td>20분 이내</td>\n",
       "      <td>3인분</td>\n",
       "      <td>아무나</td>\n",
       "    </tr>\n",
       "    <tr>\n",
       "      <th>1</th>\n",
       "      <td>2시간 이상</td>\n",
       "      <td>2인분</td>\n",
       "      <td>초급</td>\n",
       "    </tr>\n",
       "    <tr>\n",
       "      <th>2</th>\n",
       "      <td>15분 이내</td>\n",
       "      <td>2인분</td>\n",
       "      <td>아무나</td>\n",
       "    </tr>\n",
       "    <tr>\n",
       "      <th>3</th>\n",
       "      <td>30분 이내</td>\n",
       "      <td>2인분</td>\n",
       "      <td>초급</td>\n",
       "    </tr>\n",
       "    <tr>\n",
       "      <th>4</th>\n",
       "      <td>20분 이내</td>\n",
       "      <td>2인분</td>\n",
       "      <td>초급</td>\n",
       "    </tr>\n",
       "    <tr>\n",
       "      <th>...</th>\n",
       "      <td>...</td>\n",
       "      <td>...</td>\n",
       "      <td>...</td>\n",
       "    </tr>\n",
       "    <tr>\n",
       "      <th>77260</th>\n",
       "      <td>30분 이내</td>\n",
       "      <td>5인분</td>\n",
       "      <td>아무나</td>\n",
       "    </tr>\n",
       "    <tr>\n",
       "      <th>77261</th>\n",
       "      <td>10분 이내</td>\n",
       "      <td>1인분</td>\n",
       "      <td>아무나</td>\n",
       "    </tr>\n",
       "    <tr>\n",
       "      <th>77262</th>\n",
       "      <td>60분 이내</td>\n",
       "      <td>6인분 이상</td>\n",
       "      <td>초급</td>\n",
       "    </tr>\n",
       "    <tr>\n",
       "      <th>77263</th>\n",
       "      <td>2시간 이상</td>\n",
       "      <td>2인분</td>\n",
       "      <td>아무나</td>\n",
       "    </tr>\n",
       "    <tr>\n",
       "      <th>77264</th>\n",
       "      <td>30분 이내</td>\n",
       "      <td>2인분</td>\n",
       "      <td>아무나</td>\n",
       "    </tr>\n",
       "  </tbody>\n",
       "</table>\n",
       "<p>77264 rows × 3 columns</p>\n",
       "</div>"
      ],
      "text/plain": [
       "         소요시간      인분  난이도\n",
       "0      20분 이내     3인분  아무나\n",
       "1      2시간 이상     2인분   초급\n",
       "2      15분 이내     2인분  아무나\n",
       "3      30분 이내     2인분   초급\n",
       "4      20분 이내     2인분   초급\n",
       "...       ...     ...  ...\n",
       "77260  30분 이내     5인분  아무나\n",
       "77261  10분 이내     1인분  아무나\n",
       "77262  60분 이내  6인분 이상   초급\n",
       "77263  2시간 이상     2인분  아무나\n",
       "77264  30분 이내     2인분  아무나\n",
       "\n",
       "[77264 rows x 3 columns]"
      ]
     },
     "execution_count": 13,
     "metadata": {},
     "output_type": "execute_result"
    }
   ],
   "source": [
    "time=recipe['소요시간'].unique()\n",
    "size=recipe['인분'].unique()\n",
    "level=recipe['난이도'].unique()\n",
    "\n",
    "time, size, level\n",
    "\n",
    "recipe[['소요시간','인분','난이도']]"
   ]
  },
  {
   "cell_type": "markdown",
   "metadata": {},
   "source": [
    "## user_choice()<br>\n",
    "- 사용자가 지닌 재료 입력 시 특정 난도, 소요시간, 인분에 따른 결과가 출력되고 사용자가 index를 고르는 방식"
   ]
  },
  {
   "cell_type": "code",
   "execution_count": 26,
   "metadata": {
    "ExecuteTime": {
     "end_time": "2021-09-07T05:07:01.869272Z",
     "start_time": "2021-09-07T05:07:01.815173Z"
    }
   },
   "outputs": [],
   "source": [
    "# 재료 선택\n",
    "def user_choice():\n",
    "    recipe_c2=[]\n",
    "    print('가지고 계신 재료를 입력하세요')\n",
    "    recipe_name=input('사용자가 가진 재료를 입력하시오: ').split(',')\n",
    "\n",
    "    for i in range(len(recipe_name)):\n",
    "        if i==0:\n",
    "            if recipe_c['재료'].str.contains(recipe_name[i]).value_counts()[0] == len(recipe_c):\n",
    "                 print('해당 재료를 포함한 레시피가 존재하지 않습니다.')\n",
    "                 sys.exit('종료합니다. 다시 입력해주세요.')\n",
    "                 break\n",
    "                 \n",
    "        \n",
    "            else:\n",
    "            # 입력된 재료를 가진 레시피 행들은 recipe_c2에 저장\n",
    "                recipe_c2 =recipe_c[recipe_c['재료'].str.contains(recipe_name[i])]\n",
    "                if len(recipe_c2) == 0 :\n",
    "                    print('해당 재료를 포함한 레시피가 존재하지 않습니다.')\n",
    "                    sys.exit('종료합니다. 다시 입력해주세요.')\n",
    "                    break\n",
    "                print('*')\n",
    "    \n",
    "    \n",
    "        else:\n",
    "            if recipe_c2['재료'].str.contains(recipe_name[i]).value_counts()[0] == len(recipe_c):\n",
    "                 print('해당 재료를 포함한 레시피가 존재하지 않습니다.')\n",
    "                 sys.exit('종료합니다. 다시 입력해주세요.')\n",
    "                 break\n",
    "        \n",
    "            else:\n",
    "            # 입력된 재료를 가진 레시피 행들은 recipe_c2에 저장\n",
    "                a =recipe_c2['재료'].str.contains(recipe_name[i])\n",
    "                recipe_c2=recipe_c2[a] \n",
    "                if len(recipe_c2) == 0 :\n",
    "                    print('해당 재료를 포함한 레시피가 존재하지 않습니다.')\n",
    "                    sys.exit('종료합니다. 다시 입력해주세요.')\n",
    "                    break\n",
    "                print()\n",
    "                print('*')\n",
    "                print()\n",
    "            \n",
    " # 레시피 난이도 입력\n",
    "\n",
    "    recipe_level = input('난도를 몇으로 설정하시겠습니까? \\\n",
    "                        \\n(단, 1~5까지의 숫자를 입력하시오.\\\n",
    "                        \\n혹은 \"상관 없음\"이나 0 입력)\": ')\n",
    "    level_tf = recipe_c2['난이도'] == int(recipe_level) if recipe_level in ['1','2','3','4','5'] \\\n",
    "                                                    else recipe_c2['난이도'] == recipe_level\n",
    "\n",
    "    if recipe_level == '상관없음' or recipe_level == '상관 없음' or recipe_level == '0':\n",
    "        recipe_c3 = recipe_c2.copy() # 상관없음 입력시 입력 재료를 포함한 모든 레시피\n",
    "        if len(recipe_c3) == 0:\n",
    "            print('해당 난도의 레시피가 존재하지 않습니다.')\n",
    "            sys.exit('종료합니다. 다시 입력해주세요.')\n",
    "    elif level_tf.value_counts()[0] == len(recipe_c2):\n",
    "        print('해당 난도의 레시피가 존재하지 않습니다.') # 입력 재료를 가진 난도의 레시피가 없을 경우\n",
    "        sys.exit('종료합니다. 다시 입력해주세요')\n",
    "    else:\n",
    "        recipe_c3 = recipe_c2[recipe_c2['난이도'] == int(recipe_level)]\n",
    "        if len(recipe_c3) == 0:\n",
    "            print('해당 난도의 레시피가 존재하지 않습니다.')\n",
    "            sys.exit('해당 난도의 레시피가 존재하지 않아 종료')\n",
    "\n",
    "\n",
    "\n",
    "    print('---------------------------------------------------------------------------')\n",
    "\n",
    "\n",
    "# 레시피 소요시간 입력\n",
    "# ['20분 이내' '2시간 이상' '15분 이내' '30분 이내' '60분 이내' '120분 이내' '10분 이내' '90분 이내','5분 이내']\n",
    "\n",
    "    recipe_time = input('몇 분 이하의 소요시간을 필요로 하시나요?: \\\n",
    "                        \\n(단, 5 이상의 숫자를 입력하시오)) ')\n",
    "    try:\n",
    "        if int(recipe_time) < 5: \n",
    "            print(f'{recipe_time}분 이하의 레시피는 존재하지 않습니다.')\n",
    "            sys.exit('해당 소요시간의 레시피가 존재하지 않아 종료합니다.')\n",
    "            \n",
    "        elif int(recipe_time) <= 120: \n",
    "            recipe_c4 = recipe_c3[recipe_c3['소요시간'].astype('int') <= int(recipe_time)]\n",
    "            if len(recipe_c4) == 0:\n",
    "                print('해당 소요시간의 레시피가 존재하지 않습니다.')\n",
    "                sys.exit('종료합니다. 다시 입력해주세요.')\n",
    "                \n",
    "        elif int(recipe_time) >= 120: # 2시간 이상인 경우\n",
    "            recipe_c4 = recipe_c3[recipe_c3['소요시간'].astype('int') == 121]\n",
    "            if len(recipe_c4) == 0:\n",
    "                print('해당 소요시간의 레시피가 존재하지 않습니다.')\n",
    "                sys.exit('종료합니다. 다시 입력해주세요.')\n",
    "                \n",
    "    except (ValueError, TypeError):\n",
    "        print('잘못 입력하셨습니다')\n",
    "        sys.exit('해당 소요시간의 레시피가 존재하지 않아 종료합니다.')\n",
    "    \n",
    "    print()\n",
    "    print('---------------------------------------------------------------------------')\n",
    "    print()\n",
    "\n",
    "    # 레시피 인분 입력\n",
    "    \n",
    "    recipe_n = input('몇 인분의 양이 필요하신가요?: ')\n",
    "    recipe_n = re.sub('[^0-9]','',recipe_n)\n",
    "    try:\n",
    "        if int(recipe_n) <= 5:\n",
    "            recipe_c5 = recipe_c4[recipe_c4['인분'].astype('int') == int(recipe_n)]\n",
    "            if len(recipe_c5) == 0:\n",
    "                print('해당 인분의 레시피가 존재하지 않습니다')\n",
    "                sys.exit('종료합니다. 다시 검색해주세요')\n",
    "                \n",
    "        elif int(recipe_n) >= 6: # 6이상의 숫자를 입력한 경우 6인분 이상만 보이게\n",
    "            recipe_c5 = recipe_c4[recipe_c4['인분'].astype('int') == 6]\n",
    "            if len(recipe_c5) == 0:\n",
    "                print('해당 인분의 레시피가 존재하지 않습니다')\n",
    "                sys.exit('종료합니다. 다시 검색해주세요')\n",
    "            \n",
    "    except (ValueError, TypeError):\n",
    "        print('잘못 입력하셨습니다.')\n",
    "        sys.exit('해당 인분의 레시피가 존재하지 않아 종료합니다.')\n",
    "    print()\n",
    "    print('---------------------------------------------------------------------------')    \n",
    "    print()\n",
    "    \n",
    "    #사용자 선택에 따른 레시피 출력\n",
    "    \n",
    "    print('난이도: '+str(recipe_level)+', 소요시간: '+str(recipe_time)+'분, 양: '+ str(recipe_n) +'인 요리를 검색합니다......' )\n",
    "    print()\n",
    "    print('총 '+ str(len(recipe_c5))+'개의 레시피가 존재합니다.')\n",
    "    food=recipe_c5['전처리재료']\n",
    "    \n",
    "    \n",
    "    if len(recipe_c5) == 0:\n",
    "        sys.exit('해당하는 레시피가 존재하지 않습니다.\\n\\t\\t다시 검색해주세요.')\n",
    "        \n",
    "        \n",
    "    elif len(recipe_c5) >= 11:\n",
    "        print('*')\n",
    "        print('*')\n",
    "        print('*')\n",
    "        print('해당하는 레시피가 많아 일부 레시피만 로딩중')\n",
    "        print('*')\n",
    "        print('*')\n",
    "        print('*')\n",
    "        i = 1\n",
    "        while i == 1:\n",
    "            recipe_c6 = recipe_c5.reset_index()\n",
    "            rand_n = np.random.choice(len(recipe_c6), 10, replace = False)\n",
    "            rand_n.sort()\n",
    "            for i in rand_n:\n",
    "                print(recipe_c6.index[i],'    ', recipe_c6['레시피명'][i])\n",
    "            print('------------------------------------------------------')\n",
    "            print('자세히 보고 싶은 레시피 번호를 입력하세요')\n",
    "            print('다른 결과를 보고 싶다면 다른 문자를 입력하세요.')\n",
    "            choice_index = input()\n",
    "            \n",
    "            try:\n",
    "                choice_index = int(choice_index)\n",
    "                print()\n",
    "                print()\n",
    "                if recipe_c6.iloc[choice_index]['index'] <= 145:\n",
    "                    print('레시피명: ', recipe.iloc[recipe_c6.iloc[choice_index]['index'],0])\n",
    "                    print('레시피링크: ', recipe.iloc[recipe_c6.iloc[choice_index]['index'],2])\n",
    "                    print('⬈⬈⬈ 링크 클릭 시 사이트로 이동 ﹒﹒﹒')\n",
    "                    print('소요시간: ', recipe.iloc[recipe_c6.iloc[choice_index]['index'],3])\n",
    "                    print('인분: ', recipe.iloc[recipe_c6.iloc[choice_index]['index'],4])\n",
    "                    print('난이도: ', recipe.iloc[recipe_c6.iloc[choice_index]['index'],5])\n",
    "                    print('재료: ', recipe.iloc[recipe_c6.iloc[choice_index]['index'],6])\n",
    "                    i = 0\n",
    "                else:\n",
    "                    print('레시피명: ', recipe.iloc[recipe_c6.iloc[choice_index]['index']-1,0])\n",
    "                    print('레시피링크: ', recipe.iloc[recipe_c6.iloc[choice_index]['index']-1,2])\n",
    "                    print('⬈⬈⬈ 링크 클릭 시 사이트로 이동 ﹒﹒﹒')\n",
    "                    print('소요시간: ', recipe.iloc[recipe_c6.iloc[choice_index]['index']-1,3])\n",
    "                    print('인분: ', recipe.iloc[recipe_c6.iloc[choice_index]['index']-1,4])\n",
    "                    print('난이도: ', recipe.iloc[recipe_c6.iloc[choice_index]['index']-1,5])\n",
    "                    print('재료: ', recipe.iloc[recipe_c6.iloc[choice_index]['index']-1,6])\n",
    "                    i = 0\n",
    "\n",
    "            except ValueError:\n",
    "                print('*')\n",
    "                print('*')\n",
    "                print('*')\n",
    "                print('다시 검색 중입니다')\n",
    "                print('*')\n",
    "                print('*')\n",
    "                print('*')\n",
    "                i = 1\n",
    "\n",
    "    else:\n",
    "        print(recipe_c5['레시피명'])\n",
    "        print('------------------------------------------------------')\n",
    "        print('자세히 보고 싶은 레시피 번호를 입력하세요')\n",
    "        choice_index=int(input())\n",
    "        print()\n",
    "        print()\n",
    "        if choice_index <= 145:\n",
    "            print('레시피명: ', recipe.iloc[choice_index,0])\n",
    "            print('레시피링크: ', recipe.iloc[choice_index,2])\n",
    "            print('⬈⬈⬈ 링크 클릭 시 사이트로 이동 ﹒﹒﹒')\n",
    "            print('소요시간: ', recipe.iloc[choice_index,3])\n",
    "            print('인분: ', recipe.iloc[choice_index,4])\n",
    "            print('난이도: ', recipe.iloc[choice_index,5])\n",
    "            print('재료: ', recipe.iloc[choice_index,6])\n",
    "        else:\n",
    "            print('레시피명: ', recipe.iloc[choice_index-1,0])\n",
    "            print('레시피링크: ', recipe.iloc[choice_index-1,2])\n",
    "            print('⬈⬈⬈ 링크 클릭 시 사이트로 이동 ﹒﹒﹒')\n",
    "            print('소요시간: ', recipe.iloc[choice_index-1,3])\n",
    "            print('인분: ', recipe.iloc[choice_index-1,4])\n",
    "            print('난이도: ', recipe.iloc[choice_index-1,5])\n",
    "            print('재료: ', recipe.iloc[choice_index-1,6])\n",
    "    \n",
    "    return recipe_name,food"
   ]
  },
  {
   "cell_type": "code",
   "execution_count": null,
   "metadata": {
    "ExecuteTime": {
     "end_time": "2021-09-07T05:07:26.833414Z",
     "start_time": "2021-09-07T05:07:02.090163Z"
    }
   },
   "outputs": [
    {
     "name": "stdout",
     "output_type": "stream",
     "text": [
      "가지고 계신 재료를 입력하세요\n",
      "사용자가 가진 재료를 입력하시오: 사과,당근\n",
      "*\n",
      "\n",
      "*\n",
      "\n",
      "난도를 몇으로 설정하시겠습니까?                         \n",
      "(단, 1~5까지의 숫자를 입력하시오.                        \n",
      "혹은 \"상관 없음\"이나 0 입력)\": 0\n",
      "---------------------------------------------------------------------------\n",
      "몇 분 이하의 소요시간을 필요로 하시나요?:                         \n",
      "(단, 5 이상의 숫자를 입력하시오)) 30\n",
      "\n",
      "---------------------------------------------------------------------------\n",
      "\n",
      "몇 인분의 양이 필요하신가요?: 6\n",
      "\n",
      "---------------------------------------------------------------------------\n",
      "\n",
      "난이도: 0, 소요시간: 30분, 양: 6인 요리를 검색합니다......\n",
      "\n",
      "총 14개의 레시피가 존재합니다.\n",
      "*\n",
      "*\n",
      "*\n",
      "해당하는 레시피가 많아 일부 레시피만 로딩중\n",
      "*\n",
      "*\n",
      "*\n",
      "0      쑥갓겉절이\n",
      "1      씹는맛이 너무좋은 천사채샐러드 \n",
      "2       새콤달콤  아이들도 잘먹는 모둠채소피클 \n",
      "3      초간단요리 폐에 좋은 재료들만 모아 만든 맛있는 사과카레\n",
      "6      백김치 국물이 알싸하고 맛있는 백김치 담는 법\n",
      "7      나박 물김치 명절음식\n",
      "8      꿀처 다이어트 해독주스\n",
      "9      물김치 만드는 법 다오네장아찌원액으로 아삭한 물김치 만들기\n",
      "11      초간단 사과당근 샐러드소스\n",
      "13      돌나물 물김치 국물맛이 깔끔하고 시원한 돌나물 물김치\n",
      "------------------------------------------------------\n",
      "자세히 보고 싶은 레시피 번호를 입력하세요\n",
      "다른 결과를 보고 싶다면 다른 문자를 입력하세요.\n",
      "@\n",
      "*\n",
      "*\n",
      "*\n",
      "다시 검색 중입니다\n",
      "*\n",
      "*\n",
      "*\n",
      "2       새콤달콤  아이들도 잘먹는 모둠채소피클 \n",
      "3      초간단요리 폐에 좋은 재료들만 모아 만든 맛있는 사과카레\n",
      "4      냉장고에 남은 짜투리야채로 만드는 간장야채피클\n",
      "5        신혼밥상  천연 소화제 동치미\n",
      "6      백김치 국물이 알싸하고 맛있는 백김치 담는 법\n",
      "7      나박 물김치 명절음식\n",
      "8      꿀처 다이어트 해독주스\n",
      "9      물김치 만드는 법 다오네장아찌원액으로 아삭한 물김치 만들기\n",
      "10      명절김치 무설탕 나박김치 맛있게 담는 법\n",
      "11      초간단 사과당근 샐러드소스\n",
      "------------------------------------------------------\n",
      "자세히 보고 싶은 레시피 번호를 입력하세요\n",
      "다른 결과를 보고 싶다면 다른 문자를 입력하세요.\n"
     ]
    }
   ],
   "source": [
    "recipe_name, food=user_choice()"
   ]
  },
  {
   "cell_type": "code",
   "execution_count": 24,
   "metadata": {},
   "outputs": [
    {
     "data": {
      "text/html": [
       "<div>\n",
       "<style scoped>\n",
       "    .dataframe tbody tr th:only-of-type {\n",
       "        vertical-align: middle;\n",
       "    }\n",
       "\n",
       "    .dataframe tbody tr th {\n",
       "        vertical-align: top;\n",
       "    }\n",
       "\n",
       "    .dataframe thead th {\n",
       "        text-align: right;\n",
       "    }\n",
       "</style>\n",
       "<table border=\"1\" class=\"dataframe\">\n",
       "  <thead>\n",
       "    <tr style=\"text-align: right;\">\n",
       "      <th></th>\n",
       "      <th>레시피명</th>\n",
       "      <th>Index</th>\n",
       "      <th>레시피링크</th>\n",
       "      <th>소요시간</th>\n",
       "      <th>인분</th>\n",
       "      <th>난이도</th>\n",
       "      <th>재료</th>\n",
       "      <th>전처리재료</th>\n",
       "    </tr>\n",
       "  </thead>\n",
       "  <tbody>\n",
       "    <tr>\n",
       "      <th>27540</th>\n",
       "      <td>감자요리  감자채야채부침개만들기  감자채와 양파  당근  애호박을 넣고 만든 푸짐...</td>\n",
       "      <td>6916388</td>\n",
       "      <td>https://www.10000recipe.com/recipe/6916388</td>\n",
       "      <td>20</td>\n",
       "      <td>6</td>\n",
       "      <td>1</td>\n",
       "      <td>[재료],감자,4개,양파,1개,애호박,1/2개,당근,1개,소금,2큰술,후추,1작은술...</td>\n",
       "      <td>['감자', '양파', '당근', '소금', '후추', '강황가루', '밀가루', ...</td>\n",
       "    </tr>\n",
       "    <tr>\n",
       "      <th>27541</th>\n",
       "      <td>신혼밥상  국민간식 라볶이</td>\n",
       "      <td>6916387</td>\n",
       "      <td>https://www.10000recipe.com/recipe/6916387</td>\n",
       "      <td>20</td>\n",
       "      <td>2</td>\n",
       "      <td>2</td>\n",
       "      <td>[재료],떡,1밥공기,어묵,5장,양파,1개,스팸,1/2캔,양배추,1/4개,줄줄이,비...</td>\n",
       "      <td>['떡', '어묵', '양파', '스팸', '양배추', '비엔나', '치즈', '적...</td>\n",
       "    </tr>\n",
       "    <tr>\n",
       "      <th>27542</th>\n",
       "      <td>신혼밥상  2분 와인안주</td>\n",
       "      <td>6916386</td>\n",
       "      <td>https://www.10000recipe.com/recipe/6916386</td>\n",
       "      <td>5</td>\n",
       "      <td>2</td>\n",
       "      <td>2</td>\n",
       "      <td>[재료],슬라이스,치즈,2장,딸기잼,1스푼</td>\n",
       "      <td>['슬라이스', '치즈', '딸기잼']</td>\n",
       "    </tr>\n",
       "  </tbody>\n",
       "</table>\n",
       "</div>"
      ],
      "text/plain": [
       "                                                    레시피명    Index  \\\n",
       "27540   감자요리  감자채야채부침개만들기  감자채와 양파  당근  애호박을 넣고 만든 푸짐...  6916388   \n",
       "27541                                     신혼밥상  국민간식 라볶이  6916387   \n",
       "27542                                      신혼밥상  2분 와인안주  6916386   \n",
       "\n",
       "                                            레시피링크 소요시간 인분  난이도  \\\n",
       "27540  https://www.10000recipe.com/recipe/6916388   20  6    1   \n",
       "27541  https://www.10000recipe.com/recipe/6916387   20  2    2   \n",
       "27542  https://www.10000recipe.com/recipe/6916386    5  2    2   \n",
       "\n",
       "                                                      재료  \\\n",
       "27540  [재료],감자,4개,양파,1개,애호박,1/2개,당근,1개,소금,2큰술,후추,1작은술...   \n",
       "27541  [재료],떡,1밥공기,어묵,5장,양파,1개,스팸,1/2캔,양배추,1/4개,줄줄이,비...   \n",
       "27542                            [재료],슬라이스,치즈,2장,딸기잼,1스푼   \n",
       "\n",
       "                                                   전처리재료  \n",
       "27540  ['감자', '양파', '당근', '소금', '후추', '강황가루', '밀가루', ...  \n",
       "27541  ['떡', '어묵', '양파', '스팸', '양배추', '비엔나', '치즈', '적...  \n",
       "27542                              ['슬라이스', '치즈', '딸기잼']  "
      ]
     },
     "execution_count": 24,
     "metadata": {},
     "output_type": "execute_result"
    }
   ],
   "source": [
    "recipe_c[27539:27542 ]"
   ]
  },
  {
   "cell_type": "markdown",
   "metadata": {},
   "source": [
    "## need_ingredient()<br>\n",
    "- 사용자가 일부 재료를 가지고 있을 때 무슨 재료가 추가로 더 필요한 지 알려주는 코드\n",
    "- 사용자가 선택한 기준(재료, 난이도, 시간 등)에 맞는 레시피들의 재료 중에서 가장 많이 나온 재료를 출력"
   ]
  },
  {
   "cell_type": "code",
   "execution_count": 16,
   "metadata": {
    "ExecuteTime": {
     "end_time": "2021-09-06T16:57:14.961406Z",
     "start_time": "2021-09-06T16:57:14.943983Z"
    }
   },
   "outputs": [],
   "source": [
    "def need_ingredient():\n",
    "    counts={}\n",
    "    print()\n",
    "    print('입력한 항목과 일치하는 레시피 중 준비해야 할 가능성이 높은 재료들을 알려드립니다. ')\n",
    "   \n",
    "    print('--------------------------------------------------------------------------------------------')\n",
    "    print()\n",
    "    # 재료 분리해서 횟수 세기 \n",
    "    for line in food:\n",
    "        words=line.split(',')\n",
    "        for word in words:\n",
    "            counts[word]=counts.get(word,0)+1\n",
    "\n",
    "        \n",
    "    x=counts.items()\n",
    "    sort_food= sorted(x, key=lambda x: x[1], reverse=True)\n",
    "\n",
    "    \n",
    "    #사용자가 입력한 재료가 sort_food 리스트에 있는지 확인하고 삭제 \n",
    "    num=[]\n",
    "    recipe_name\n",
    "    for i in range(len(recipe_name)):\n",
    "        for j in range(len(sort_food)):\n",
    "            if recipe_name[i] in sort_food[j][0] :\n",
    "                num.append(j)\n",
    "\n",
    "    num.sort()\n",
    "    num\n",
    "    y=len(num)\n",
    "    \n",
    "    \n",
    "    for x in range(y):\n",
    "        z=num[0]\n",
    "        del sort_food[z]\n",
    "        num.remove(z)\n",
    "        for j in range(len(num)):\n",
    "            num[j]= num[j]-1\n",
    "    \n",
    "    # 상위 3개 재료만 출력\n",
    "    best_3=sort_food[0:3]\n",
    "\n",
    "    print('입력하신 재료: ',recipe_name)\n",
    "    print()\n",
    "    print('▶▶저희가 보유한 레시피 분석 결과, 추가로 필요한 재료 best3은', best_3,'입니다.')\n",
    "    "
   ]
  },
  {
   "cell_type": "code",
   "execution_count": 19,
   "metadata": {
    "ExecuteTime": {
     "end_time": "2021-09-06T16:57:15.602209Z",
     "start_time": "2021-09-06T16:57:15.597494Z"
    }
   },
   "outputs": [
    {
     "name": "stdout",
     "output_type": "stream",
     "text": [
      "\n",
      "입력한 항목과 일치하는 레시피 중 준비해야 할 가능성이 높은 재료들을 알려드립니다. \n",
      "--------------------------------------------------------------------------------------------\n",
      "\n",
      "입력하신 재료:  ['가지', '당근']\n",
      "\n",
      "▶▶저희가 보유한 레시피 분석 결과, 추가로 필요한 재료 best3은 [(\" '양파'\", 11), (\" '참기름'\", 6), (\" '마늘'\", 6)] 입니다.\n"
     ]
    }
   ],
   "source": [
    "need_ingredient()"
   ]
  },
  {
   "cell_type": "code",
   "execution_count": null,
   "metadata": {},
   "outputs": [],
   "source": []
  },
  {
   "cell_type": "code",
   "execution_count": null,
   "metadata": {},
   "outputs": [],
   "source": []
  }
 ],
 "metadata": {
  "kernelspec": {
   "display_name": "Python 3",
   "language": "python",
   "name": "python3"
  },
  "language_info": {
   "codemirror_mode": {
    "name": "ipython",
    "version": 3
   },
   "file_extension": ".py",
   "mimetype": "text/x-python",
   "name": "python",
   "nbconvert_exporter": "python",
   "pygments_lexer": "ipython3",
   "version": "3.8.5"
  },
  "toc": {
   "base_numbering": 1,
   "nav_menu": {},
   "number_sections": true,
   "sideBar": true,
   "skip_h1_title": false,
   "title_cell": "Table of Contents",
   "title_sidebar": "Contents",
   "toc_cell": false,
   "toc_position": {},
   "toc_section_display": true,
   "toc_window_display": false
  },
  "varInspector": {
   "cols": {
    "lenName": 16,
    "lenType": 16,
    "lenVar": 40
   },
   "kernels_config": {
    "python": {
     "delete_cmd_postfix": "",
     "delete_cmd_prefix": "del ",
     "library": "var_list.py",
     "varRefreshCmd": "print(var_dic_list())"
    },
    "r": {
     "delete_cmd_postfix": ") ",
     "delete_cmd_prefix": "rm(",
     "library": "var_list.r",
     "varRefreshCmd": "cat(var_dic_list()) "
    }
   },
   "types_to_exclude": [
    "module",
    "function",
    "builtin_function_or_method",
    "instance",
    "_Feature"
   ],
   "window_display": false
  }
 },
 "nbformat": 4,
 "nbformat_minor": 4
}
