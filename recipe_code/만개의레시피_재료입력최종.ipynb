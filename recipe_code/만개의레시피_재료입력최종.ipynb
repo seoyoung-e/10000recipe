{
  "nbformat": 4,
  "nbformat_minor": 0,
  "metadata": {
    "kernelspec": {
      "display_name": "Python 3 (ipykernel)",
      "language": "python",
      "name": "python3"
    },
    "language_info": {
      "codemirror_mode": {
        "name": "ipython",
        "version": 3
      },
      "file_extension": ".py",
      "mimetype": "text/x-python",
      "name": "python",
      "nbconvert_exporter": "python",
      "pygments_lexer": "ipython3",
      "version": "3.9.6"
    },
    "toc": {
      "base_numbering": 1,
      "nav_menu": {},
      "number_sections": true,
      "sideBar": true,
      "skip_h1_title": false,
      "title_cell": "Table of Contents",
      "title_sidebar": "Contents",
      "toc_cell": false,
      "toc_position": {},
      "toc_section_display": true,
      "toc_window_display": false
    },
    "varInspector": {
      "cols": {
        "lenName": 16,
        "lenType": 16,
        "lenVar": 40
      },
      "kernels_config": {
        "python": {
          "delete_cmd_postfix": "",
          "delete_cmd_prefix": "del ",
          "library": "var_list.py",
          "varRefreshCmd": "print(var_dic_list())"
        },
        "r": {
          "delete_cmd_postfix": ") ",
          "delete_cmd_prefix": "rm(",
          "library": "var_list.r",
          "varRefreshCmd": "cat(var_dic_list()) "
        }
      },
      "types_to_exclude": [
        "module",
        "function",
        "builtin_function_or_method",
        "instance",
        "_Feature"
      ],
      "window_display": false
    },
    "colab": {
      "name": "만개의레시피_재료입력최종.ipynb",
      "provenance": [],
      "include_colab_link": true
    }
  },
  "cells": [
    {
      "cell_type": "markdown",
      "metadata": {
        "id": "view-in-github",
        "colab_type": "text"
      },
      "source": [
        "<a href=\"https://colab.research.google.com/github/nang-e/10000recipe/blob/main/recipe_code/%E1%84%86%E1%85%A1%E1%86%AB%E1%84%80%E1%85%A2%E1%84%8B%E1%85%B4%E1%84%85%E1%85%A6%E1%84%89%E1%85%B5%E1%84%91%E1%85%B5_%E1%84%8C%E1%85%A2%E1%84%85%E1%85%AD%E1%84%8B%E1%85%B5%E1%86%B8%E1%84%85%E1%85%A7%E1%86%A8%E1%84%8E%E1%85%AC%E1%84%8C%E1%85%A9%E1%86%BC.ipynb\" target=\"_parent\"><img src=\"https://colab.research.google.com/assets/colab-badge.svg\" alt=\"Open In Colab\"/></a>"
      ]
    },
    {
      "cell_type": "code",
      "metadata": {
        "ExecuteTime": {
          "end_time": "2021-09-08T11:48:36.124231Z",
          "start_time": "2021-09-08T11:48:35.855941Z"
        },
        "id": "1YU7VOuwmidy"
      },
      "source": [
        "import pandas as pd\n",
        "import numpy as np\n",
        "import re\n",
        "from IPython.core.interactiveshell import InteractiveShell\n",
        "import sys\n",
        "InteractiveShell.ast_node_interactivity='all'"
      ],
      "execution_count": null,
      "outputs": []
    },
    {
      "cell_type": "code",
      "metadata": {
        "ExecuteTime": {
          "end_time": "2021-09-08T11:49:32.088426Z",
          "start_time": "2021-09-08T11:49:23.202834Z"
        },
        "id": "ZJqOBl57mid2"
      },
      "source": [
        "recipe=pd.read_excel('만개의레시피_레시피명,재료_전처리.xlsx')"
      ],
      "execution_count": null,
      "outputs": []
    },
    {
      "cell_type": "code",
      "metadata": {
        "ExecuteTime": {
          "end_time": "2021-09-08T11:49:32.918542Z",
          "start_time": "2021-09-08T11:49:32.889071Z"
        },
        "id": "gjJLDUStmid2"
      },
      "source": [
        "recipe = recipe.drop(146,axis = 0)"
      ],
      "execution_count": null,
      "outputs": []
    },
    {
      "cell_type": "code",
      "metadata": {
        "ExecuteTime": {
          "end_time": "2021-09-06T12:12:11.621373Z",
          "start_time": "2021-09-06T12:12:11.528431Z"
        },
        "id": "t1vXQjnSmid3",
        "outputId": "2a922088-a465-4d42-a989-9ce112f51e14"
      },
      "source": [
        "recipe['전처리재료'].unique()"
      ],
      "execution_count": null,
      "outputs": [
        {
          "data": {
            "text/plain": [
              "array(['[]', \"['소금', '홍고추']\",\n",
              "       \"['설탕[토핑]메이플시럽', '시나몬가루', '연유', '볶은콩가루', '바닐라아이스크림', '견과류']\", ...,\n",
              "       \"['돼지고기', '배추김치', '김치국물', '두부', '양파', '들기름', '고추가루', '디포리', '무', '물']\",\n",
              "       \"['닭안심', '우유', '빵가루', '밀가루', '계란', '2', '소금', '후추', '맛술', '2']\",\n",
              "       \"['등갈비', '김치', '월계수잎', '설탕']\"], dtype=object)"
            ]
          },
          "execution_count": 4,
          "metadata": {},
          "output_type": "execute_result"
        }
      ]
    },
    {
      "cell_type": "code",
      "metadata": {
        "ExecuteTime": {
          "end_time": "2021-09-06T12:12:12.217903Z",
          "start_time": "2021-09-06T12:12:12.183038Z"
        },
        "id": "qGbepxlemid4",
        "outputId": "1daf31f5-e84d-4a31-a802-8c36c2663423"
      },
      "source": [
        "time=[]\n",
        "size=[]\n",
        "level=[]\n",
        "time=recipe['소요시간'].unique()\n",
        "size=recipe['인분'].unique()\n",
        "level=recipe['난이도'].unique()\n",
        "\n",
        "time, size, level"
      ],
      "execution_count": null,
      "outputs": [
        {
          "data": {
            "text/plain": [
              "(array(['20분 이내', '2시간 이상', '15분 이내', '30분 이내', '60분 이내', '120분 이내',\n",
              "        '10분 이내', '90분 이내', '5분 이내'], dtype=object),\n",
              " array(['3인분', '2인분', '1인분', '5인분', '6인분 이상', '4인분'], dtype=object),\n",
              " array(['아무나', '초급', '중급', '신의경지', '고급'], dtype=object))"
            ]
          },
          "execution_count": 5,
          "metadata": {},
          "output_type": "execute_result"
        }
      ]
    },
    {
      "cell_type": "code",
      "metadata": {
        "ExecuteTime": {
          "end_time": "2021-09-08T11:49:39.198547Z",
          "start_time": "2021-09-08T11:49:39.176390Z"
        },
        "id": "U51XLWbvmid4",
        "outputId": "7f006d70-ee4b-40dc-c2a7-43481a8a4415"
      },
      "source": [
        "recipe.columns # 컬럼명 확인"
      ],
      "execution_count": null,
      "outputs": [
        {
          "data": {
            "text/plain": [
              "Index(['레시피명', 'Index', '레시피링크', '소요시간', '인분', '난이도', '재료', '전처리재료'], dtype='object')"
            ]
          },
          "execution_count": 8,
          "metadata": {},
          "output_type": "execute_result"
        }
      ]
    },
    {
      "cell_type": "code",
      "metadata": {
        "ExecuteTime": {
          "end_time": "2021-09-08T11:49:39.863083Z",
          "start_time": "2021-09-08T11:49:39.847629Z"
        },
        "id": "vJDJDLC9mid5"
      },
      "source": [
        "recipe_c = recipe.copy() # 복사본 생성"
      ],
      "execution_count": null,
      "outputs": []
    },
    {
      "cell_type": "code",
      "metadata": {
        "id": "HX77GQAjmid6"
      },
      "source": [
        ""
      ],
      "execution_count": null,
      "outputs": []
    },
    {
      "cell_type": "markdown",
      "metadata": {
        "id": "Aq2PUAGwmid6"
      },
      "source": [
        "## 전처리"
      ]
    },
    {
      "cell_type": "code",
      "metadata": {
        "ExecuteTime": {
          "end_time": "2021-09-08T11:49:42.947901Z",
          "start_time": "2021-09-08T11:49:42.937544Z"
        },
        "id": "F3L-nkeWmid8"
      },
      "source": [
        "def preprocess():\n",
        "    # 시간 분단위로 통일\n",
        "    recipe_c['소요시간'] = recipe_c['소요시간'].apply(\\\n",
        "                        lambda x: '121분 이상' if x == '2시간 이상' else x)\n",
        "    # 난이도 범주형->숫자로 변환 \n",
        "    ## 아무나: 1, 초급: 2, 중급: 3, 고급: 4, 신의경지: 5\n",
        "    recipe_c['난이도'] = recipe_c['난이도'].apply(lambda x: 1 if x=='아무나'\n",
        "                                       else 2 if x=='초급'\n",
        "                                       else 3 if x=='중급'\n",
        "                                       else 4 if x=='고급'\n",
        "                                       else 5)\n",
        "    # 인분과 소요시간에서 숫자만 추출\n",
        "    recipe_c['인분'] = recipe_c['인분'].str.extract('([0-9])')\n",
        "    recipe_c['소요시간'] = recipe_c['소요시간'].str.extract('(\\d+)')"
      ],
      "execution_count": null,
      "outputs": []
    },
    {
      "cell_type": "code",
      "metadata": {
        "ExecuteTime": {
          "end_time": "2021-09-08T11:49:43.981977Z",
          "start_time": "2021-09-08T11:49:43.727602Z"
        },
        "id": "bRp5pU4Jmid8"
      },
      "source": [
        "preprocess()"
      ],
      "execution_count": null,
      "outputs": []
    },
    {
      "cell_type": "code",
      "metadata": {
        "ExecuteTime": {
          "end_time": "2021-09-08T11:49:44.630106Z",
          "start_time": "2021-09-08T11:49:44.607225Z"
        },
        "id": "_Oq3bfB2mid9",
        "outputId": "9c3c4d01-8b42-4240-9d81-551a8aaaed15"
      },
      "source": [
        "recipe_c.head()"
      ],
      "execution_count": null,
      "outputs": [
        {
          "data": {
            "text/html": [
              "<div>\n",
              "<style scoped>\n",
              "    .dataframe tbody tr th:only-of-type {\n",
              "        vertical-align: middle;\n",
              "    }\n",
              "\n",
              "    .dataframe tbody tr th {\n",
              "        vertical-align: top;\n",
              "    }\n",
              "\n",
              "    .dataframe thead th {\n",
              "        text-align: right;\n",
              "    }\n",
              "</style>\n",
              "<table border=\"1\" class=\"dataframe\">\n",
              "  <thead>\n",
              "    <tr style=\"text-align: right;\">\n",
              "      <th></th>\n",
              "      <th>레시피명</th>\n",
              "      <th>Index</th>\n",
              "      <th>레시피링크</th>\n",
              "      <th>소요시간</th>\n",
              "      <th>인분</th>\n",
              "      <th>난이도</th>\n",
              "      <th>재료</th>\n",
              "      <th>전처리재료</th>\n",
              "    </tr>\n",
              "  </thead>\n",
              "  <tbody>\n",
              "    <tr>\n",
              "      <th>0</th>\n",
              "      <td>제육 삼각 김밥</td>\n",
              "      <td>6963999</td>\n",
              "      <td>https://www.10000recipe.com/recipe/6963999</td>\n",
              "      <td>20</td>\n",
              "      <td>3</td>\n",
              "      <td>1</td>\n",
              "      <td>[재료(약7개분량)]볶은제육불고기200g[밥양념]밥5공기,통깨2큰술,참기름2큰술,소...</td>\n",
              "      <td>[]</td>\n",
              "    </tr>\n",
              "    <tr>\n",
              "      <th>1</th>\n",
              "      <td>마약계란장 만들기 반숙계란장 레시피</td>\n",
              "      <td>6963998</td>\n",
              "      <td>https://www.10000recipe.com/recipe/6963998</td>\n",
              "      <td>121</td>\n",
              "      <td>2</td>\n",
              "      <td>2</td>\n",
              "      <td>[재료]계란10개,소금,식초약간,양파1/2개,쪽파반줌,홍고추,청양고추각1개[양념장재...</td>\n",
              "      <td>['소금', '홍고추']</td>\n",
              "    </tr>\n",
              "    <tr>\n",
              "      <th>2</th>\n",
              "      <td>크로와상 생지로 크로플 만들기   겉은 바삭 속은 쫄깃해요</td>\n",
              "      <td>6963996</td>\n",
              "      <td>https://www.10000recipe.com/recipe/6963996</td>\n",
              "      <td>15</td>\n",
              "      <td>2</td>\n",
              "      <td>1</td>\n",
              "      <td>[재료]크로와상냉동생지4개,오일(식용유or버터),설탕[토핑]메이플시럽,시나몬가루,연...</td>\n",
              "      <td>['설탕[토핑]메이플시럽', '시나몬가루', '연유', '볶은콩가루', '바닐라아이...</td>\n",
              "    </tr>\n",
              "    <tr>\n",
              "      <th>3</th>\n",
              "      <td>고기육수를 내서 깊고 푸짐한 두부김치찌개 간단하게 만들기</td>\n",
              "      <td>6963995</td>\n",
              "      <td>https://www.10000recipe.com/recipe/6963995</td>\n",
              "      <td>30</td>\n",
              "      <td>2</td>\n",
              "      <td>2</td>\n",
              "      <td>[재료]묵은지적당량,돼지고기100g,설탕(생략가능)0.3T,다진마늘1T,두부적당량,...</td>\n",
              "      <td>[]</td>\n",
              "    </tr>\n",
              "    <tr>\n",
              "      <th>4</th>\n",
              "      <td>계란샌드위치 만들기 에그샌드위치 레시피</td>\n",
              "      <td>6963994</td>\n",
              "      <td>https://www.10000recipe.com/recipe/6963994</td>\n",
              "      <td>20</td>\n",
              "      <td>2</td>\n",
              "      <td>2</td>\n",
              "      <td>[재료]계란6개,식빵6장,마요네즈3T,플레인요거트1T듬뿍,꿀약간,홀그레인머스타드약간...</td>\n",
              "      <td>[]</td>\n",
              "    </tr>\n",
              "  </tbody>\n",
              "</table>\n",
              "</div>"
            ],
            "text/plain": [
              "                                 레시피명    Index  \\\n",
              "0                            제육 삼각 김밥  6963999   \n",
              "1                 마약계란장 만들기 반숙계란장 레시피  6963998   \n",
              "2  크로와상 생지로 크로플 만들기   겉은 바삭 속은 쫄깃해요    6963996   \n",
              "3     고기육수를 내서 깊고 푸짐한 두부김치찌개 간단하게 만들기  6963995   \n",
              "4               계란샌드위치 만들기 에그샌드위치 레시피  6963994   \n",
              "\n",
              "                                        레시피링크 소요시간 인분  난이도  \\\n",
              "0  https://www.10000recipe.com/recipe/6963999   20  3    1   \n",
              "1  https://www.10000recipe.com/recipe/6963998  121  2    2   \n",
              "2  https://www.10000recipe.com/recipe/6963996   15  2    1   \n",
              "3  https://www.10000recipe.com/recipe/6963995   30  2    2   \n",
              "4  https://www.10000recipe.com/recipe/6963994   20  2    2   \n",
              "\n",
              "                                                  재료  \\\n",
              "0  [재료(약7개분량)]볶은제육불고기200g[밥양념]밥5공기,통깨2큰술,참기름2큰술,소...   \n",
              "1  [재료]계란10개,소금,식초약간,양파1/2개,쪽파반줌,홍고추,청양고추각1개[양념장재...   \n",
              "2  [재료]크로와상냉동생지4개,오일(식용유or버터),설탕[토핑]메이플시럽,시나몬가루,연...   \n",
              "3  [재료]묵은지적당량,돼지고기100g,설탕(생략가능)0.3T,다진마늘1T,두부적당량,...   \n",
              "4  [재료]계란6개,식빵6장,마요네즈3T,플레인요거트1T듬뿍,꿀약간,홀그레인머스타드약간...   \n",
              "\n",
              "                                               전처리재료  \n",
              "0                                                 []  \n",
              "1                                      ['소금', '홍고추']  \n",
              "2  ['설탕[토핑]메이플시럽', '시나몬가루', '연유', '볶은콩가루', '바닐라아이...  \n",
              "3                                                 []  \n",
              "4                                                 []  "
            ]
          },
          "execution_count": 12,
          "metadata": {},
          "output_type": "execute_result"
        }
      ]
    },
    {
      "cell_type": "code",
      "metadata": {
        "ExecuteTime": {
          "end_time": "2021-09-08T11:49:47.879398Z",
          "start_time": "2021-09-08T11:49:47.857292Z"
        },
        "id": "lq3Omqmcmid9"
      },
      "source": [
        "# recipe_c : 단순 복사본\n",
        "# recipe_c2 : 입력된 재료를 가진 행만 저장된 df\n",
        "# recipe_c3 : 입력된 재료 및 특정 난도를 가진 행만 저장된 df\n",
        "# recipe_c4 : 입력된 재료, 특정 난도 및 특정 수준 이하의 소요시간을 가진 행만 저장된 df\n",
        "# recipe_c5 : 입력된 재료, 특정 난도 및 특정 수준 이하의 소요시간 및 특정 인분을 가진 행만 저장된 df\n",
        "\n",
        "recipe_view=recipe_c.drop('전처리재료',axis = 1) # recipe_view: 전처리재료 열 제외한 df"
      ],
      "execution_count": null,
      "outputs": []
    },
    {
      "cell_type": "markdown",
      "metadata": {
        "id": "2nTPdAapmid9"
      },
      "source": [
        "## user_choice()<br>\n",
        "- 사용자가 지닌 재료 입력 시 특정 난도, 소요시간, 인분에 따른 결과가 출력되고 사용자가 index를 고르는 방식"
      ]
    },
    {
      "cell_type": "code",
      "metadata": {
        "ExecuteTime": {
          "end_time": "2021-09-08T11:49:49.267381Z",
          "start_time": "2021-09-08T11:49:49.212808Z"
        },
        "id": "RqWYbjRlmid-"
      },
      "source": [
        "# 재료 선택\n",
        "def user_choice():\n",
        "    recipe_c2=[]\n",
        "    print('가지고 계신 재료를 입력하세요')\n",
        "    recipe_name=input('사용자가 가진 재료를 입력하시오: ').split(',')\n",
        "\n",
        "    for i in range(len(recipe_name)):\n",
        "        if i==0:\n",
        "            if recipe_c['재료'].str.contains(recipe_name[i]).value_counts()[0] == len(recipe_c):\n",
        "                 print('해당 재료를 포함한 레시피가 존재하지 않습니다.')\n",
        "                 sys.exit('종료합니다. 다시 입력해주세요.')\n",
        "                 break\n",
        "                 \n",
        "        \n",
        "            else:\n",
        "            # 입력된 재료를 가진 레시피 행들은 recipe_c2에 저장\n",
        "                recipe_c2 =recipe_c[recipe_c['재료'].str.contains(recipe_name[i])]\n",
        "                if len(recipe_c2) == 0 :\n",
        "                    print('해당 재료를 포함한 레시피가 존재하지 않습니다.')\n",
        "                    sys.exit('종료합니다. 다시 입력해주세요.')\n",
        "                    break\n",
        "                print('*')\n",
        "    \n",
        "    \n",
        "        else:\n",
        "            if recipe_c2['재료'].str.contains(recipe_name[i]).value_counts()[0] == len(recipe_c):\n",
        "                 print('해당 재료를 포함한 레시피가 존재하지 않습니다.')\n",
        "                 sys.exit('종료합니다. 다시 입력해주세요.')\n",
        "                 break\n",
        "        \n",
        "            else:\n",
        "            # 입력된 재료를 가진 레시피 행들은 recipe_c2에 저장\n",
        "                a =recipe_c2['재료'].str.contains(recipe_name[i])\n",
        "                recipe_c2=recipe_c2[a] \n",
        "                if len(recipe_c2) == 0 :\n",
        "                    print('해당 재료를 포함한 레시피가 존재하지 않습니다.')\n",
        "                    sys.exit('종료합니다. 다시 입력해주세요.')\n",
        "                    break\n",
        "                print()\n",
        "                print('*')\n",
        "                print()\n",
        "            \n",
        "\n",
        "        # 레시피 난이도 입력\n",
        "    recipe_level = input('난도를 몇으로 설정하시겠습니까? \\\n",
        "                        \\n(단, 1~5까지의 숫자를 입력하시오.\\\n",
        "                        \\n혹은 \"상관 없음\"이나 0 입력)\": ')\n",
        "    level_tf = recipe_c2['난이도'] == int(recipe_level) if recipe_level in ['1','2','3','4','5'] \\\n",
        "                                                    else recipe_c2['난이도'] == recipe_level\n",
        "\n",
        "    if recipe_level == '상관없음' or recipe_level == '상관 없음' or recipe_level == '0':\n",
        "        recipe_c3 = recipe_c2.copy() # 상관없음 입력시 입력 재료를 포함한 모든 레시피\n",
        "        if len(recipe_c3) == 0:\n",
        "            print('해당 난도의 레시피가 존재하지 않습니다.')\n",
        "            sys.exit('종료합니다. 다시 입력해주세요.')\n",
        "    elif level_tf.value_counts()[0] == len(recipe_c2):\n",
        "        print('해당 난도의 레시피가 존재하지 않습니다.') # 입력 재료를 가진 난도의 레시피가 없을 경우\n",
        "        sys.exit('종료합니다. 다시 입력해주세요')\n",
        "    else:\n",
        "        recipe_c3 = recipe_c2[recipe_c2['난이도'] == int(recipe_level)]\n",
        "        if len(recipe_c3) == 0:\n",
        "            print('해당 난도의 레시피가 존재하지 않습니다.')\n",
        "            sys.exit('해당 난도의 레시피가 존재하지 않아 종료')\n",
        "\n",
        "\n",
        "\n",
        "    print('---------------------------------------------------------------------------')\n",
        "\n",
        "\n",
        "# 레시피 소요시간 입력\n",
        "# ['20분 이내' '2시간 이상' '15분 이내' '30분 이내' '60분 이내' '120분 이내' '10분 이내' '90분 이내','5분 이내']\n",
        "    recipe_time = input('몇 분 이하의 소요시간을 필요로 하시나요?: \\\n",
        "                        \\n(단, 5 이상의 숫자를 입력하시오)) ')\n",
        "    try:\n",
        "        if int(recipe_time) < 5: \n",
        "            print(f'{recipe_time}분 이하의 레시피는 존재하지 않습니다.')\n",
        "            sys.exit('해당 소요시간의 레시피가 존재하지 않아 종료합니다.')\n",
        "            \n",
        "        elif int(recipe_time) <= 120: \n",
        "            recipe_c4 = recipe_c3[recipe_c3['소요시간'].astype('int') <= int(recipe_time)]\n",
        "            if len(recipe_c4) == 0:\n",
        "                print('해당 소요시간의 레시피가 존재하지 않습니다.')\n",
        "                sys.exit('종료합니다. 다시 입력해주세요.')\n",
        "                \n",
        "        elif int(recipe_time) >= 120: # 2시간 이상인 경우\n",
        "            recipe_c4 = recipe_c3[recipe_c3['소요시간'].astype('int') == 121]\n",
        "            if len(recipe_c4) == 0:\n",
        "                print('해당 소요시간의 레시피가 존재하지 않습니다.')\n",
        "                sys.exit('종료합니다. 다시 입력해주세요.')\n",
        "                \n",
        "    except (ValueError, TypeError):\n",
        "        print('잘못 입력하셨습니다')\n",
        "        sys.exit('해당 소요시간의 레시피가 존재하지 않아 종료합니다.')\n",
        "    \n",
        "    print()\n",
        "    print('---------------------------------------------------------------------------')\n",
        "    print()\n",
        "\n",
        "    # 레시피 인분 입력\n",
        "    recipe_n = input('몇 인분의 양이 필요하신가요?: ')\n",
        "    recipe_n = re.sub('[^0-9]','',recipe_n)\n",
        "    try:\n",
        "        if int(recipe_n) <= 5:\n",
        "            recipe_c5 = recipe_c4[recipe_c4['인분'].astype('int') == int(recipe_n)]\n",
        "            if len(recipe_c5) == 0:\n",
        "                print('해당 인분의 레시피가 존재하지 않습니다')\n",
        "                sys.exit('종료합니다. 다시 검색해주세요')\n",
        "                \n",
        "        elif int(recipe_n) >= 6: # 6이상의 숫자를 입력한 경우 6인분 이상만 보이게\n",
        "            recipe_c5 = recipe_c4[recipe_c4['인분'].astype('int') == 6]\n",
        "            if len(recipe_c5) == 0:\n",
        "                print('해당 인분의 레시피가 존재하지 않습니다')\n",
        "                sys.exit('종료합니다. 다시 검색해주세요')\n",
        "            \n",
        "    except (ValueError, TypeError):\n",
        "        print('잘못 입력하셨습니다.')\n",
        "        sys.exit('해당 인분의 레시피가 존재하지 않아 종료합니다.')\n",
        "    print()\n",
        "    print('---------------------------------------------------------------------------')    \n",
        "    print()\n",
        "    \n",
        "    #사용자 선택에 따른 레시피 출력\n",
        "    print('난이도: '+str(recipe_level)+', 소요시간: '+str(recipe_time)+'분, 양: '+ str(recipe_n) +'인 요리를 검색합니다......' )\n",
        "    print()\n",
        "    print('총 '+ str(len(recipe_c5))+'개의 레시피가 존재합니다.')\n",
        "    food=recipe_c5['전처리재료']\n",
        "    if len(recipe_c5) == 0:\n",
        "        sys.exit('해당하는 레시피가 존재하지 않습니다.\\n\\t\\t다시 검색해주세요.')\n",
        "    elif len(recipe_c5) >= 11:\n",
        "        print('*')\n",
        "        print('*')\n",
        "        print('*')\n",
        "        print('해당하는 레시피가 많아 일부 레시피만 로딩중')\n",
        "        print('*')\n",
        "        print('*')\n",
        "        print('*')\n",
        "        i = 1\n",
        "        while i == 1:\n",
        "            recipe_c6 = recipe_c5.reset_index()\n",
        "            rand_n = np.random.choice(len(recipe_c6), 10, replace = False)\n",
        "            rand_n.sort()\n",
        "            for i in rand_n:\n",
        "                print(recipe_c6.index[i],'    ', recipe_c6['레시피명'][i])\n",
        "            print('------------------------------------------------------')\n",
        "            print('자세히 보고 싶은 레시피 번호를 입력하세요')\n",
        "            print('다른 결과를 보고 싶다면 다른 문자를 입력하세요.')\n",
        "            choice_index = input()\n",
        "            try:\n",
        "                choice_index = int(choice_index)\n",
        "                print()\n",
        "                print()\n",
        "                if recipe_c6.iloc[choice_index]['index'] <= 145:\n",
        "                    print('레시피명: ', recipe.iloc[recipe_c6.iloc[choice_index]['index'],0])\n",
        "                    print('레시피링크: ', recipe.iloc[recipe_c6.iloc[choice_index]['index'],2])\n",
        "                    print('⬈⬈⬈ 링크 클릭 시 사이트로 이동 ﹒﹒﹒')\n",
        "                    print('소요시간: ', recipe.iloc[recipe_c6.iloc[choice_index]['index'],3])\n",
        "                    print('인분: ', recipe.iloc[recipe_c6.iloc[choice_index]['index'],4])\n",
        "                    print('난이도: ', recipe.iloc[recipe_c6.iloc[choice_index]['index'],5])\n",
        "                    print('재료: ', recipe.iloc[recipe_c6.iloc[choice_index]['index'],6])\n",
        "                    i = 0\n",
        "                else:\n",
        "                    print('레시피명: ', recipe.iloc[recipe_c6.iloc[choice_index]['index']-1,0])\n",
        "                    print('레시피링크: ', recipe.iloc[recipe_c6.iloc[choice_index]['index']-1,2])\n",
        "                    print('⬈⬈⬈ 링크 클릭 시 사이트로 이동 ﹒﹒﹒')\n",
        "                    print('소요시간: ', recipe.iloc[recipe_c6.iloc[choice_index]['index']-1,3])\n",
        "                    print('인분: ', recipe.iloc[recipe_c6.iloc[choice_index]['index']-1,4])\n",
        "                    print('난이도: ', recipe.iloc[recipe_c6.iloc[choice_index]['index']-1,5])\n",
        "                    print('재료: ', recipe.iloc[recipe_c6.iloc[choice_index]['index']-1,6])\n",
        "                    i = 0\n",
        "\n",
        "            except ValueError:\n",
        "                print('*')\n",
        "                print('*')\n",
        "                print('*')\n",
        "                print('다시 검색 중입니다')\n",
        "                print('*')\n",
        "                print('*')\n",
        "                print('*')\n",
        "                i = 1\n",
        "\n",
        "    else:\n",
        "        print(recipe_c5['레시피명'])\n",
        "        print('------------------------------------------------------')\n",
        "        print('자세히 보고 싶은 레시피 번호를 입력하세요')\n",
        "        choice_index=int(input())\n",
        "        print()\n",
        "        print()\n",
        "        if choice_index <= 145:\n",
        "            print('레시피명: ', recipe.iloc[choice_index,0])\n",
        "            print('레시피링크: ', recipe.iloc[choice_index,2])\n",
        "            print('⬈⬈⬈ 링크 클릭 시 사이트로 이동 ﹒﹒﹒')\n",
        "            print('소요시간: ', recipe.iloc[choice_index,3])\n",
        "            print('인분: ', recipe.iloc[choice_index,4])\n",
        "            print('난이도: ', recipe.iloc[choice_index,5])\n",
        "            print('재료: ', recipe.iloc[choice_index,6])\n",
        "        else:\n",
        "            print('레시피명: ', recipe.iloc[choice_index-1,0])\n",
        "            print('레시피링크: ', recipe.iloc[choice_index-1,2])\n",
        "            print('⬈⬈⬈ 링크 클릭 시 사이트로 이동 ﹒﹒﹒')\n",
        "            print('소요시간: ', recipe.iloc[choice_index-1,3])\n",
        "            print('인분: ', recipe.iloc[choice_index-1,4])\n",
        "            print('난이도: ', recipe.iloc[choice_index-1,5])\n",
        "            print('재료: ', recipe.iloc[choice_index-1,6])\n",
        "    \n",
        "    return recipe_name,food"
      ],
      "execution_count": null,
      "outputs": []
    },
    {
      "cell_type": "code",
      "metadata": {
        "ExecuteTime": {
          "end_time": "2021-09-08T11:52:01.839373Z",
          "start_time": "2021-09-08T11:50:39.250194Z"
        },
        "id": "E3DdAJPwmieA",
        "outputId": "68307625-cd2e-4b38-9098-673e0a3321a3"
      },
      "source": [
        "recipe_name, food=user_choice()"
      ],
      "execution_count": null,
      "outputs": [
        {
          "name": "stdout",
          "output_type": "stream",
          "text": [
            "가지고 계신 재료를 입력하세요\n",
            "사용자가 가진 재료를 입력하시오: 김치,계란,참치\n",
            "*\n",
            "\n",
            "*\n",
            "\n",
            "\n",
            "*\n",
            "\n",
            "난도를 몇으로 설정하시겠습니까?                         \n",
            "(단, 1~5까지의 숫자를 입력하시오.                        \n",
            "혹은 \"상관 없음\"이나 0 입력)\": 2\n",
            "---------------------------------------------------------------------------\n",
            "몇 분 이하의 소요시간을 필요로 하시나요?:                         \n",
            "(단, 5 이상의 숫자를 입력하시오)) 10\n",
            "\n",
            "---------------------------------------------------------------------------\n",
            "\n",
            "몇 인분의 양이 필요하신가요?: 1\n",
            "\n",
            "---------------------------------------------------------------------------\n",
            "\n",
            "난이도: 2, 소요시간: 10분, 양: 1인 요리를 검색합니다......\n",
            "\n",
            "총 2개의 레시피가 존재합니다.\n",
            "5956     요즘 핫한 접어 먹는 김밥   가장 맛있는 조합 접는김밥\n",
            "60166                파김치 비빔밥 완전 별미 한그릇음식\n",
            "Name: 레시피명, dtype: object\n",
            "------------------------------------------------------\n",
            "자세히 보고 싶은 레시피 번호를 입력하세요\n",
            "5956\n",
            "\n",
            "\n",
            "레시피명:  요즘 핫한 접어 먹는 김밥   가장 맛있는 조합 접는김밥\n",
            "레시피링크:  https://www.10000recipe.com/recipe/6953277\n",
            "⬈⬈⬈ 링크 클릭 시 사이트로 이동 ﹒﹒﹒\n",
            "소요시간:  10분 이내\n",
            "인분:  1인분\n",
            "난이도:  초급\n",
            "재료:  [밥간하기],밥,1공기,참기름,1스푼,맛소금,1꼬집,깨,2스푼,[참치접는김밥],참치,2스푼,깻잎,2장,스팸,2장,쌈무,2장,마요네즈,2스푼,계란,1개,[김치접는김밥],김치,1줌,스팸,2장,계란,1개,상추,2장\n"
          ]
        }
      ]
    },
    {
      "cell_type": "code",
      "metadata": {
        "id": "RpDASwQ_mieA"
      },
      "source": [
        ""
      ],
      "execution_count": null,
      "outputs": []
    },
    {
      "cell_type": "markdown",
      "metadata": {
        "id": "32RPk1iKmieA"
      },
      "source": [
        "## need_ingredient()<br>\n",
        "- 사용자가 일부 재료를 가지고 있을 때 무슨 재료가 추가로 더 필요한 지 알려주는 코드\n",
        "- 사용자가 선택한 기준(재료, 난이도, 시간 등)에 맞는 레시피들의 재료 중에서 가장 많이 나온 재료를 출력"
      ]
    },
    {
      "cell_type": "code",
      "metadata": {
        "ExecuteTime": {
          "end_time": "2021-09-08T11:52:25.979384Z",
          "start_time": "2021-09-08T11:52:25.962083Z"
        },
        "id": "tt-IU_m1mieA"
      },
      "source": [
        "def need_ingredient():\n",
        "    counts={}\n",
        "# 재료 분리해서 횟수 세기 \n",
        "    \n",
        "    for line in food:\n",
        "        words=line.split(',')\n",
        "        for word in words:\n",
        "            counts[word]=counts.get(word,0)+1\n",
        "\n",
        "        \n",
        "    x=counts.items()\n",
        "    sort_food= sorted(x, key=lambda x: x[1], reverse=True)\n",
        "\n",
        "    \n",
        "    #사용자가 입력한 재료가 sort_food 리스트에 있는지 확인하고 삭제 (추가 재료만 필요하니까)\n",
        "    num=[]\n",
        "    recipe_name\n",
        "    for i in range(len(recipe_name)):\n",
        "        for j in range(len(sort_food)):\n",
        "            if recipe_name[i] in sort_food[j][0] :\n",
        "                num.append(j)\n",
        "\n",
        "    num.sort()\n",
        "    num\n",
        "    y=len(num)\n",
        "    \n",
        "    \n",
        "    for x in range(y):\n",
        "        z=num[0]\n",
        "        del sort_food[z]\n",
        "        num.remove(z)\n",
        "        for j in range(len(num)):\n",
        "            num[j]= num[j]-1\n",
        "    \n",
        "    # 상위 3개 재료만 출력\n",
        "    best_3=sort_food[0:3]\n",
        "\n",
        "    print('입력하신 재료: ',recipe_name)\n",
        "    print('>>>저희가 보유한 레시피 분석 결과, 추가로 필요한 재료 best3은 ', best_3,'입니다.')\n",
        "    "
      ],
      "execution_count": null,
      "outputs": []
    },
    {
      "cell_type": "code",
      "metadata": {
        "ExecuteTime": {
          "end_time": "2021-09-08T11:52:26.866977Z",
          "start_time": "2021-09-08T11:52:26.862688Z"
        },
        "id": "hVCgAUbPmieB",
        "outputId": "da852d56-9f50-4d55-b878-201a34a87c10"
      },
      "source": [
        "need_ingredient()"
      ],
      "execution_count": null,
      "outputs": [
        {
          "name": "stdout",
          "output_type": "stream",
          "text": [
            "입력하신 재료:  ['김치', '계란', '참치']\n",
            ">>>저희가 보유한 레시피 분석 결과, 추가로 필요한 재료 best3은  [(\" '스팸'\", 2), (\"['[밥간하기]'\", 1), (\" '밥'\", 1)] 입니다.\n"
          ]
        }
      ]
    },
    {
      "cell_type": "code",
      "metadata": {
        "id": "Rx0JfDo8mieB"
      },
      "source": [
        ""
      ],
      "execution_count": null,
      "outputs": []
    },
    {
      "cell_type": "code",
      "metadata": {
        "id": "EpL68eNUmieB"
      },
      "source": [
        ""
      ],
      "execution_count": null,
      "outputs": []
    }
  ]
}